{
 "cells": [
  {
   "cell_type": "code",
   "execution_count": null,
   "metadata": {},
   "outputs": [],
   "source": [
    "from utils.polygon_api import fetch_intraday\n",
    "from strategies.sma_crossover import SMACrossoverStrategy\n",
    "from utils.metrics import evaluate\n",
    "\n",
    "df = fetch_intraday(\"AAPL\", \"2024-07-01\", \"2024-07-05\")\n",
    "strategy = SMACrossoverStrategy(df)\n",
    "signals = strategy.generate_signals()\n",
    "trades = strategy.backtest()\n",
    "print(evaluate(trades))"
   ]
  }
 ],
 "metadata": {
  "kernelspec": {
   "display_name": "Python 3",
   "language": "python",
   "name": "python3"
  },
  "language_info": {
   "name": "python",
   "version": "3.x"
  }
 },
 "nbformat": 4,
 "nbformat_minor": 5
}

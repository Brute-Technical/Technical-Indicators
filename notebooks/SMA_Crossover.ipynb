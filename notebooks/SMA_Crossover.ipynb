from utils.polygon_api import fetch_intraday
from strategies.sma_crossover import SMACrossoverStrategy
import matplotlib.pyplot as plt

df = fetch_intraday("AAPL", "2024-07-01", "2024-07-10")
strategy = SMACrossoverStrategy(df, short=9, long=20)
signals = strategy.generate_signals()
trades = strategy.backtest()

signals[['close', 'sma_short', 'sma_long']].plot(title="SMA Crossover Strategy")
print(f"Total Trades: {len(trades)}")
print(trades[:3])
